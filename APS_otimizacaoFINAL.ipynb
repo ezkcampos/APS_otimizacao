{
  "nbformat": 4,
  "nbformat_minor": 0,
  "metadata": {
    "colab": {
      "provenance": []
    },
    "kernelspec": {
      "name": "python3",
      "display_name": "Python 3"
    },
    "language_info": {
      "name": "python"
    }
  },
  "cells": [
    {
      "cell_type": "code",
      "execution_count": null,
      "metadata": {
        "id": "21PLF-LSONiM"
      },
      "outputs": [],
      "source": [
        "!pip install yfinance --upgrade --no-cache-dir"
      ]
    },
    {
      "cell_type": "code",
      "source": [
        "!pip install requests --upgrade --no-cache-dir"
      ],
      "metadata": {
        "id": "ufyhaFEoPJcy"
      },
      "execution_count": null,
      "outputs": []
    },
    {
      "cell_type": "code",
      "source": [
        "pip install --upgrade pandas"
      ],
      "metadata": {
        "id": "8QBNb1VXPNpf"
      },
      "execution_count": null,
      "outputs": []
    },
    {
      "cell_type": "code",
      "source": [
        "import pandas as pd\n",
        "import numpy as np\n",
        "import yfinance as yf #Instalando e importando a API no código\n",
        "import matplotlib.pyplot as plt\n",
        "from sklearn.metrics import mean_squared_error\n",
        "from statsmodels.tsa.arima_model import ARIMA\n",
        "from datetime import datetime, timedelta"
      ],
      "metadata": {
        "id": "tWbJGOvePUWb"
      },
      "execution_count": 1,
      "outputs": []
    },
    {
      "cell_type": "code",
      "source": [
        "# Defina o símbolo do ativo que você deseja calcular o retorno médio\n",
        "symbol = \"VALE3.SA\"\n",
        "\n",
        "# Defina a data de hoje e a data de 6 meses atrás\n",
        "end_date = datetime.today().strftime('%Y-%m-%d')\n",
        "start_date = (datetime.today() - timedelta(days=180)).strftime('%Y-%m-%d')\n",
        "\n",
        "# Obtenha os dados do Yahoo Finances para o período de interesse\n",
        "data = yf.download(symbol, start=start_date, end=end_date)\n",
        "\n",
        "# Calcule o retorno diário\n",
        "data[\"Daily Return\"] = data[\"Close\"].pct_change()\n",
        "\n",
        "# Calcule o retorno médio diário\n",
        "mean_daily_return = data[\"Daily Return\"].mean()\n",
        "\n",
        "print(\"O retorno médio diário do ativo {} nos últimos 6 meses é {:.2%}\".format(symbol, mean_daily_return))"
      ],
      "metadata": {
        "colab": {
          "base_uri": "https://localhost:8080/"
        },
        "id": "Ogr9WvUaQ__i",
        "outputId": "b3a4fee0-1dde-4017-f8ab-6452b748b8b1"
      },
      "execution_count": 2,
      "outputs": [
        {
          "output_type": "stream",
          "name": "stdout",
          "text": [
            "\r[*********************100%***********************]  1 of 1 completed\n",
            "O retorno médio diário do ativo VALE3.SA nos últimos 6 meses é -0.04%\n"
          ]
        }
      ]
    },
    {
      "cell_type": "code",
      "source": [
        "import yfinance as yf\n",
        "from datetime import datetime, timedelta\n",
        "\n",
        "# Defina os símbolos dos 10 ativos que você deseja calcular o retorno médio\n",
        "symbols = [\"VALE3.SA\", \"PETR4.SA\", \"BBAS3.SA\", \"GGBR4.SA\", \"ITUB4.SA\", \"BCSA34.SA\", \"PCAR3.SA\", \"ABEV3.SA\", \"MGLU3.SA\", \"AMER3.SA\"]\n",
        "\n",
        "# Defina a data de hoje e a data de 6 meses atrás\n",
        "end_date = datetime.today().strftime('%Y-%m-%d')\n",
        "start_date = (datetime.today() - timedelta(days=180)).strftime('%Y-%m-%d')\n",
        "\n",
        "# Crie uma lista para armazenar os resultados\n",
        "results = []\n",
        "\n",
        "# Loop através dos símbolos para calcular o retorno médio para cada ativo\n",
        "for symbol in symbols:\n",
        "    # Obtenha os dados do Yahoo Finances para o período de interesse\n",
        "    data = yf.download(symbol, start=start_date, end=end_date)\n",
        "\n",
        "    # Calcule o retorno diário\n",
        "    data[\"Daily Return\"] = data[\"Close\"].pct_change()\n",
        "\n",
        "    # Calcule o retorno médio diário\n",
        "    mean_daily_return = data[\"Daily Return\"].mean()\n",
        "\n",
        "    # Adicione o retorno médio à lista de resultados\n",
        "    results.append(mean_daily_return)\n",
        "\n",
        "# Imprima os resultados\n",
        "for i in range(len(symbols)):\n",
        "    print(\"O retorno médio diário do ativo {} nos últimos 6 meses é {:.2%}\".format(symbols[i], results[i]))"
      ],
      "metadata": {
        "colab": {
          "base_uri": "https://localhost:8080/"
        },
        "id": "0miPV3QIZytO",
        "outputId": "41e6275b-7563-401d-c541-bae787cc99c8"
      },
      "execution_count": 3,
      "outputs": [
        {
          "output_type": "stream",
          "name": "stdout",
          "text": [
            "[*********************100%***********************]  1 of 1 completed\n",
            "[*********************100%***********************]  1 of 1 completed\n",
            "[*********************100%***********************]  1 of 1 completed\n",
            "[*********************100%***********************]  1 of 1 completed\n",
            "[*********************100%***********************]  1 of 1 completed\n",
            "[*********************100%***********************]  1 of 1 completed\n",
            "[*********************100%***********************]  1 of 1 completed\n",
            "[*********************100%***********************]  1 of 1 completed\n",
            "[*********************100%***********************]  1 of 1 completed\n",
            "[*********************100%***********************]  1 of 1 completed\n",
            "O retorno médio diário do ativo VALE3.SA nos últimos 6 meses é -0.04%\n",
            "O retorno médio diário do ativo PETR4.SA nos últimos 6 meses é -0.10%\n",
            "O retorno médio diário do ativo BBAS3.SA nos últimos 6 meses é 0.11%\n",
            "O retorno médio diário do ativo GGBR4.SA nos últimos 6 meses é -0.03%\n",
            "O retorno médio diário do ativo ITUB4.SA nos últimos 6 meses é -0.12%\n",
            "O retorno médio diário do ativo BCSA34.SA nos últimos 6 meses é 0.18%\n",
            "O retorno médio diário do ativo PCAR3.SA nos últimos 6 meses é -0.18%\n",
            "O retorno médio diário do ativo ABEV3.SA nos últimos 6 meses é -0.08%\n",
            "O retorno médio diário do ativo MGLU3.SA nos últimos 6 meses é -0.08%\n",
            "O retorno médio diário do ativo AMER3.SA nos últimos 6 meses é -1.13%\n"
          ]
        }
      ]
    },
    {
      "cell_type": "code",
      "source": [
        "import yfinance as yf\n",
        "from datetime import datetime, timedelta\n",
        "import math\n",
        "\n",
        "# Defina os símbolos dos 10 ativos que você deseja calcular a volatilidade\n",
        "symbols = [\"VALE3.SA\", \"PETR4.SA\", \"BBAS3.SA\", \"GGBR4.SA\", \"ITUB4.SA\", \"BCSA34.SA\", \"PCAR3.SA\", \"ABEV3.SA\", \"MGLU3.SA\", \"AMER3.SA\"]\n",
        "\n",
        "# Defina a data de hoje e a data de 6 meses atrás\n",
        "end_date = datetime.today().strftime('%Y-%m-%d')\n",
        "start_date = (datetime.today() - timedelta(days=180)).strftime('%Y-%m-%d')\n",
        "\n",
        "# Crie uma lista para armazenar os resultados\n",
        "results = []\n",
        "\n",
        "# Loop através dos símbolos para calcular a volatilidade para cada ativo\n",
        "for symbol in symbols:\n",
        "    # Obtenha os dados do Yahoo Finances para o período de interesse\n",
        "    data = yf.download(symbol, start=start_date, end=end_date)\n",
        "\n",
        "    # Calcule o retorno diário\n",
        "    data[\"Daily Return\"] = data[\"Close\"].pct_change()\n",
        "\n",
        "    # Calcule a volatilidade histórica\n",
        "    annual_volatility = data[\"Daily Return\"].std() * math.sqrt(252)\n",
        "\n",
        "    # Adicione a volatilidade à lista de resultados\n",
        "    results.append(annual_volatility)\n",
        "\n",
        "# Imprima os resultados\n",
        "for i in range(len(symbols)):\n",
        "    print(\"A volatilidade histórica do ativo {} nos últimos 6 meses é {:.2%}\".format(symbols[i], results[i]))\n"
      ],
      "metadata": {
        "colab": {
          "base_uri": "https://localhost:8080/"
        },
        "id": "IZJLG5_tbjBU",
        "outputId": "4e0dda96-3a9e-44f2-c99f-47a85fd34918"
      },
      "execution_count": 4,
      "outputs": [
        {
          "output_type": "stream",
          "name": "stdout",
          "text": [
            "[*********************100%***********************]  1 of 1 completed\n",
            "[*********************100%***********************]  1 of 1 completed\n",
            "[*********************100%***********************]  1 of 1 completed\n",
            "[*********************100%***********************]  1 of 1 completed\n",
            "[*********************100%***********************]  1 of 1 completed\n",
            "[*********************100%***********************]  1 of 1 completed\n",
            "[*********************100%***********************]  1 of 1 completed\n",
            "[*********************100%***********************]  1 of 1 completed\n",
            "[*********************100%***********************]  1 of 1 completed\n",
            "[*********************100%***********************]  1 of 1 completed\n",
            "A volatilidade histórica do ativo VALE3.SA nos últimos 6 meses é 30.88%\n",
            "A volatilidade histórica do ativo PETR4.SA nos últimos 6 meses é 44.40%\n",
            "A volatilidade histórica do ativo BBAS3.SA nos últimos 6 meses é 31.43%\n",
            "A volatilidade histórica do ativo GGBR4.SA nos últimos 6 meses é 36.28%\n",
            "A volatilidade histórica do ativo ITUB4.SA nos últimos 6 meses é 30.36%\n",
            "A volatilidade histórica do ativo BCSA34.SA nos últimos 6 meses é 38.40%\n",
            "A volatilidade histórica do ativo PCAR3.SA nos últimos 6 meses é 50.14%\n",
            "A volatilidade histórica do ativo ABEV3.SA nos últimos 6 meses é 24.14%\n",
            "A volatilidade histórica do ativo MGLU3.SA nos últimos 6 meses é 78.15%\n",
            "A volatilidade histórica do ativo AMER3.SA nos últimos 6 meses é 184.39%\n"
          ]
        }
      ]
    },
    {
      "cell_type": "code",
      "source": [
        "import yfinance as yf\n",
        "from datetime import datetime, timedelta\n",
        "import math\n",
        "\n",
        "# Defina os símbolos dos 10 ativos que você deseja calcular o retorno médio e a volatilidade\n",
        "symbols = [\"VALE3.SA\", \"PETR4.SA\", \"BBAS3.SA\", \"GGBR4.SA\", \"ITUB4.SA\", \"BCSA34.SA\", \"PCAR3.SA\", \"ABEV3.SA\", \"MGLU3.SA\", \"AMER3.SA\"]\n",
        "\n",
        "# Defina a data de hoje e a data de 6 meses atrás\n",
        "end_date = datetime.today().strftime('%Y-%m-%d')\n",
        "start_date = (datetime.today() - timedelta(days=180)).strftime('%Y-%m-%d')\n",
        "\n",
        "# Crie listas para armazenar os resultados do retorno médio e volatilidade para cada ativo\n",
        "average_returns = []\n",
        "volatilities = []\n",
        "\n",
        "# Loop através dos símbolos para calcular o retorno médio e a volatilidade para cada ativo\n",
        "for symbol in symbols:\n",
        "    # Obtenha os dados do Yahoo Finances para o período de interesse\n",
        "    data = yf.download(symbol, start=start_date, end=end_date)\n",
        "\n",
        "    # Calcule o retorno médio diário\n",
        "    daily_returns = data[\"Close\"].pct_change()\n",
        "    avg_return = daily_returns.mean()\n",
        "\n",
        "    # Calcule a volatilidade histórica\n",
        "    annual_volatility = daily_returns.std() * math.sqrt(252)\n",
        "\n",
        "    # Adicione o retorno médio e a volatilidade às listas de resultados\n",
        "    average_returns.append(avg_return)\n",
        "    volatilities.append(annual_volatility)\n",
        "\n",
        "# Imprima os resultados\n",
        "for i in range(len(symbols)):\n",
        "    print(\"Ativo: {}\\nRetorno médio nos últimos 6 meses: {:.2%}\\nVolatilidade histórica nos últimos 6 meses: {:.2%}\\n\".format(symbols[i], average_returns[i], volatilities[i]))\n"
      ],
      "metadata": {
        "colab": {
          "base_uri": "https://localhost:8080/"
        },
        "id": "7oWshABwdXDU",
        "outputId": "9701a6dc-0a04-4b32-fb6c-e4167bc8d602"
      },
      "execution_count": 5,
      "outputs": [
        {
          "output_type": "stream",
          "name": "stdout",
          "text": [
            "[*********************100%***********************]  1 of 1 completed\n",
            "[*********************100%***********************]  1 of 1 completed\n",
            "[*********************100%***********************]  1 of 1 completed\n",
            "[*********************100%***********************]  1 of 1 completed\n",
            "[*********************100%***********************]  1 of 1 completed\n",
            "[*********************100%***********************]  1 of 1 completed\n",
            "[*********************100%***********************]  1 of 1 completed\n",
            "[*********************100%***********************]  1 of 1 completed\n",
            "[*********************100%***********************]  1 of 1 completed\n",
            "[*********************100%***********************]  1 of 1 completed\n",
            "Ativo: VALE3.SA\n",
            "Retorno médio nos últimos 6 meses: -0.04%\n",
            "Volatilidade histórica nos últimos 6 meses: 30.88%\n",
            "\n",
            "Ativo: PETR4.SA\n",
            "Retorno médio nos últimos 6 meses: -0.10%\n",
            "Volatilidade histórica nos últimos 6 meses: 44.40%\n",
            "\n",
            "Ativo: BBAS3.SA\n",
            "Retorno médio nos últimos 6 meses: 0.11%\n",
            "Volatilidade histórica nos últimos 6 meses: 31.43%\n",
            "\n",
            "Ativo: GGBR4.SA\n",
            "Retorno médio nos últimos 6 meses: -0.03%\n",
            "Volatilidade histórica nos últimos 6 meses: 36.28%\n",
            "\n",
            "Ativo: ITUB4.SA\n",
            "Retorno médio nos últimos 6 meses: -0.12%\n",
            "Volatilidade histórica nos últimos 6 meses: 30.36%\n",
            "\n",
            "Ativo: BCSA34.SA\n",
            "Retorno médio nos últimos 6 meses: 0.18%\n",
            "Volatilidade histórica nos últimos 6 meses: 38.40%\n",
            "\n",
            "Ativo: PCAR3.SA\n",
            "Retorno médio nos últimos 6 meses: -0.18%\n",
            "Volatilidade histórica nos últimos 6 meses: 50.14%\n",
            "\n",
            "Ativo: ABEV3.SA\n",
            "Retorno médio nos últimos 6 meses: -0.08%\n",
            "Volatilidade histórica nos últimos 6 meses: 24.14%\n",
            "\n",
            "Ativo: MGLU3.SA\n",
            "Retorno médio nos últimos 6 meses: -0.08%\n",
            "Volatilidade histórica nos últimos 6 meses: 78.15%\n",
            "\n",
            "Ativo: AMER3.SA\n",
            "Retorno médio nos últimos 6 meses: -1.13%\n",
            "Volatilidade histórica nos últimos 6 meses: 184.39%\n",
            "\n"
          ]
        }
      ]
    },
    {
      "cell_type": "code",
      "source": [
        "#essa versão usa o algorito heuristico indice sharpe\n",
        "\n",
        "import pandas as pd\n",
        "import numpy as np\n",
        "import yfinance as yf\n",
        "\n",
        "# Lista de símbolos dos ativos\n",
        "ativos = [\"VALE3.SA\", \"PETR4.SA\", \"BBAS3.SA\", \"GGBR4.SA\", \"ITUB4.SA\", \"BCSA34.SA\", \"PCAR3.SA\", \"ABEV3.SA\", \"MGLU3.SA\", \"AMER3.SA\"]\n",
        "\n",
        "# Download dos dados dos últimos 6 meses dos ativos\n",
        "dados_ativos = yf.download(ativos, period='6mo')['Adj Close']\n",
        "\n",
        "# Retorno diário dos ativos\n",
        "retorno_diario = dados_ativos.pct_change()\n",
        "\n",
        "# Cálculo do retorno médio diário e desvio padrão\n",
        "retorno_medio_diario = retorno_diario.mean()\n",
        "desvio_padrao_diario = retorno_diario.std()\n",
        "\n",
        "# Cálculo do Índice Sharpe\n",
        "indice_sharpe = retorno_medio_diario / desvio_padrao_diario\n",
        "\n",
        "# Seleção dos 5 melhores ativos com base no Índice Sharpe\n",
        "ativos_selecionados = indice_sharpe.sort_values(ascending=False).head(5).index.tolist()\n",
        "\n",
        "# Cálculo dos pesos dos ativos selecionados\n",
        "pesos = np.repeat(1/len(ativos_selecionados), len(ativos_selecionados))\n",
        "\n",
        "# Construção do portfólio\n",
        "portifolio = (retorno_diario[ativos_selecionados] * pesos).sum(axis=1)\n",
        "\n",
        "# Cálculo do retorno médio e desvio padrão do portfólio\n",
        "retorno_medio_portifolio = portifolio.mean()\n",
        "desvio_padrao_portifolio = portifolio.std()\n",
        "\n",
        "print('Ativos selecionados:', ativos_selecionados)\n",
        "print('Pesos:', pesos)\n",
        "print('Retorno médio do portfólio:', retorno_medio_portifolio)\n",
        "print('Desvio padrão do portfólio:', desvio_padrao_portifolio)\n"
      ],
      "metadata": {
        "colab": {
          "base_uri": "https://localhost:8080/"
        },
        "id": "Nvt8F5DdgHo1",
        "outputId": "83ef982b-4b3f-411d-88fe-218d4ef4de50"
      },
      "execution_count": 6,
      "outputs": [
        {
          "output_type": "stream",
          "name": "stdout",
          "text": [
            "[*********************100%***********************]  10 of 10 completed\n",
            "Ativos selecionados: ['BCSA34.SA', 'BBAS3.SA', 'PETR4.SA', 'GGBR4.SA', 'VALE3.SA']\n",
            "Pesos: [0.2 0.2 0.2 0.2 0.2]\n",
            "Retorno médio do portfólio: 0.0011748056153350571\n",
            "Desvio padrão do portfólio: 0.013341916692999634\n"
          ]
        }
      ]
    },
    {
      "cell_type": "code",
      "source": [
        "import pandas as pd\n",
        "import numpy as np\n",
        "import yfinance as yf\n",
        "from scipy.optimize import minimize\n",
        "\n",
        "# Lista de símbolos dos ativos\n",
        "ativos = ['AAPL', 'GOOG', 'TSLA', 'MSFT', 'AMZN', 'FB', 'NVDA', 'JPM', 'JNJ', 'V']\n",
        "\n",
        "# Download dos dados dos últimos 6 meses dos ativos\n",
        "dados_ativos = yf.download(ativos, period='6mo')['Adj Close']\n",
        "\n",
        "# Retorno diário dos ativos\n",
        "retorno_diario = dados_ativos.pct_change()\n",
        "\n",
        "# Cálculo do retorno médio diário e desvio padrão\n",
        "retorno_medio_diario = retorno_diario.mean()\n",
        "desvio_padrao_diario = retorno_diario.std()\n",
        "\n",
        "# Cálculo da matriz de covariância dos retornos dos ativos\n",
        "matriz_covariancia = retorno_diario.cov()\n",
        "\n",
        "# Função objetivo para a otimização da carteira\n",
        "def funcao_objetivo(pesos, retorno_medio_diario, matriz_covariancia, risco_maximo):\n",
        "    retorno_portifolio = np.sum(retorno_medio_diario * pesos)\n",
        "    risco_portifolio = np.sqrt(np.dot(pesos.T, np.dot(matriz_covariancia, pesos)))\n",
        "    penalizacao = 100 * abs(risco_portifolio - risco_maximo)\n",
        "    return -retorno_portifolio + penalizacao\n",
        "\n",
        "# Restrição da otimização\n",
        "def restricao(pesos):\n",
        "    return np.sum(pesos) - 1\n",
        "\n",
        "# Definição das restrições da otimização\n",
        "restricoes = ({'type': 'eq', 'fun': restricao})\n",
        "\n",
        "# Definição dos limites dos pesos dos ativos\n",
        "limites = tuple((0, 1) for i in range(len(ativos)))\n",
        "\n",
        "# Valor máximo permitido para o risco do portfólio\n",
        "risco_maximo = 0.2\n",
        "\n",
        "# Otimização da carteira\n",
        "resultado = minimize(funcao_objetivo, np.repeat(1/len(ativos), len(ativos)),\n",
        "                     args=(retorno_medio_diario, matriz_covariancia, risco_maximo),\n",
        "                     method='SLSQP', bounds=limites, constraints=restricoes)\n",
        "\n",
        "# Pesos ótimos dos ativos na carteira\n",
        "pesos = resultado.x\n",
        "\n",
        "# Construção do portfólio\n",
        "portifolio = (retorno_diario[ativos] * pesos).sum(axis=1)\n",
        "\n",
        "# Cálculo do retorno médio e desvio padrão do portfólio\n",
        "retorno_medio_portifolio = portifolio.mean()\n",
        "desvio_padrao_portifolio = portifolio.std()\n",
        "\n",
        "# Impressão dos resultados\n",
        "print('Pesos:', pesos)\n",
        "print('Retorno médio do portfólio:', retorno_medio_portifolio)\n",
        "print('Desvio padrão do portfólio:', desvio_padrao_portifolio)\n",
        "print('\\nRetorno médio diário dos ativos:\\n', retorno_medio_diario)\n",
        "print('\\nDesvio padrão diário dos ativos:\\n', desvio_padrao_diario)\n"
      ],
      "metadata": {
        "id": "oCBOMvygh3Mx",
        "colab": {
          "base_uri": "https://localhost:8080/"
        },
        "outputId": "b2502eb4-2cfe-4e53-b806-177d7f480cc7"
      },
      "execution_count": 7,
      "outputs": [
        {
          "output_type": "stream",
          "name": "stdout",
          "text": [
            "[*********************100%***********************]  10 of 10 completed\n",
            "\n",
            "1 Failed download:\n",
            "- FB: No data found, symbol may be delisted\n",
            "Pesos: [0.1 0.1 0.1 0.1 0.1 0.1 0.1 0.1 0.1 0.1]\n",
            "Retorno médio do portfólio: 0.0015507377602744967\n",
            "Desvio padrão do portfólio: 0.01520679924267048\n",
            "\n",
            "Retorno médio diário dos ativos:\n",
            " AAPL    0.001993\n",
            "AMZN    0.001587\n",
            "FB           NaN\n",
            "GOOG    0.001728\n",
            "JNJ    -0.000335\n",
            "JPM     0.000580\n",
            "MSFT    0.002765\n",
            "NVDA    0.006266\n",
            "TSLA   -0.000266\n",
            "V       0.001314\n",
            "dtype: float64\n",
            "\n",
            "Desvio padrão diário dos ativos:\n",
            " AAPL    0.018546\n",
            "AMZN    0.025981\n",
            "FB           NaN\n",
            "GOOG    0.022873\n",
            "JNJ     0.010373\n",
            "JPM     0.016283\n",
            "MSFT    0.020195\n",
            "NVDA    0.034891\n",
            "TSLA    0.043268\n",
            "V       0.013127\n",
            "dtype: float64\n"
          ]
        }
      ]
    },
    {
      "cell_type": "code",
      "source": [
        "import pandas as pd\n",
        "import numpy as np\n",
        "import yfinance as yf\n",
        "\n",
        "# Lista de símbolos dos ativos\n",
        "ativos = [\"VALE3.SA\", \"PETR4.SA\", \"BBAS3.SA\", \"GGBR4.SA\", \"ITUB4.SA\", \"BCSA34.SA\", \"PCAR3.SA\", \"ABEV3.SA\", \"MGLU3.SA\", \"AMER3.SA\"]\n",
        "\n",
        "# Download dos dados dos últimos 6 meses dos ativos\n",
        "dados_ativos = yf.download(ativos, period='6mo')['Adj Close']\n",
        "\n",
        "# Retorno diário dos ativos\n",
        "retorno_diario = dados_ativos.pct_change()\n",
        "\n",
        "# Cálculo do retorno médio diário e desvio padrão\n",
        "retorno_medio_diario = retorno_diario.mean()\n",
        "desvio_padrao_diario = retorno_diario.std()\n",
        "\n",
        "# Seleção dos 5 melhores ativos com base no retorno médio e desvio padrão\n",
        "ativos_selecionados = pd.DataFrame({'retorno_medio': retorno_medio_diario, 'risco': desvio_padrao_diario}) \\\n",
        "                        .nsmallest(5, ['risco', 'retorno_medio']).index.tolist()\n",
        "\n",
        "# Cálculo dos pesos dos ativos selecionados\n",
        "pesos = np.repeat(1/len(ativos_selecionados), len(ativos_selecionados))\n",
        "\n",
        "# Construção do portfólio\n",
        "portifolio = (retorno_diario[ativos_selecionados] * pesos).sum(axis=1)\n",
        "\n",
        "# Cálculo do retorno médio e desvio padrão do portfólio\n",
        "retorno_medio_portifolio = portifolio.mean()\n",
        "desvio_padrao_portifolio = portifolio.std()\n",
        "\n",
        "print('Ativos selecionados:', ativos_selecionados)\n",
        "print('Pesos:', pesos)\n",
        "print('Retorno médio do portfólio:', retorno_medio_portifolio)\n",
        "print('Desvio padrão do portfólio:', desvio_padrao_portifolio)\n"
      ],
      "metadata": {
        "colab": {
          "base_uri": "https://localhost:8080/"
        },
        "id": "vDvsTBoMj-RL",
        "outputId": "5c0ffc38-de21-4537-be55-49ae01639f91"
      },
      "execution_count": 8,
      "outputs": [
        {
          "output_type": "stream",
          "name": "stdout",
          "text": [
            "[*********************100%***********************]  10 of 10 completed\n",
            "Ativos selecionados: ['ABEV3.SA', 'ITUB4.SA', 'BBAS3.SA', 'VALE3.SA', 'GGBR4.SA']\n",
            "Pesos: [0.2 0.2 0.2 0.2 0.2]\n",
            "Retorno médio do portfólio: 0.00027302327358722677\n",
            "Desvio padrão do portfólio: 0.012384872869526291\n"
          ]
        }
      ]
    },
    {
      "cell_type": "code",
      "source": [
        "import yfinance as yf\n",
        "from datetime import datetime, timedelta\n",
        "import math\n",
        "import pandas as pd\n",
        "import numpy as np\n",
        "\n",
        "# Defina os símbolos dos 10 ativos que você deseja calcular o retorno médio e a volatilidade\n",
        "symbols = [\"VALE3.SA\", \"PETR4.SA\", \"BBAS3.SA\", \"GGBR4.SA\", \"ITUB4.SA\", \"BCSA34.SA\", \"PCAR3.SA\", \"ABEV3.SA\", \"MGLU3.SA\", \"AMER3.SA\"]\n",
        "\n",
        "# Defina a data de hoje e a data de 6 meses atrás\n",
        "end_date = datetime.today().strftime('%Y-%m-%d')\n",
        "start_date = (datetime.today() - timedelta(days=180)).strftime('%Y-%m-%d')\n",
        "\n",
        "# Crie listas para armazenar os resultados do retorno médio e volatilidade para cada ativo\n",
        "average_returns = []\n",
        "volatilities = []\n",
        "\n",
        "# Loop através dos símbolos para calcular o retorno médio e a volatilidade para cada ativo\n",
        "for symbol in symbols:\n",
        "    # Obtenha os dados do Yahoo Finances para o período de interesse\n",
        "    data = yf.download(symbol, start=start_date, end=end_date)\n",
        "\n",
        "    # Calcule o retorno médio diário\n",
        "    daily_returns = data[\"Close\"].pct_change()\n",
        "    avg_return = daily_returns.mean()\n",
        "\n",
        "    # Calcule a volatilidade histórica\n",
        "    annual_volatility = daily_returns.std() * math.sqrt(252)\n",
        "\n",
        "    # Adicione o retorno médio e a volatilidade às listas de resultados\n",
        "    average_returns.append(avg_return)\n",
        "    volatilities.append(annual_volatility)\n",
        "\n",
        "# Crie um DataFrame para armazenar os resultados\n",
        "results = pd.DataFrame({\n",
        "    'Ativo': symbols,\n",
        "    'Retorno Médio': average_returns,\n",
        "    'Volatilidade': volatilities\n",
        "})\n",
        "\n",
        "# Crie uma coluna para o Índice Sharpe\n",
        "results['Indice Sharpe'] = results['Retorno Médio'] / results['Volatilidade']\n",
        "\n",
        "# Seleciona os 5 melhores ativos com base no Índice Sharpe\n",
        "ativos_selecionados = results.nlargest(5, 'Indice Sharpe')['Ativo'].tolist()\n",
        "\n",
        "# Calcula os pesos dos ativos selecionados\n",
        "returns_selected = []\n",
        "for symbol in ativos_selecionados:\n",
        "    data = yf.download(symbol, start=start_date, end=end_date)\n",
        "    daily_returns = data[\"Close\"].pct_change()\n",
        "    returns_selected.append(daily_returns)\n",
        "    \n",
        "returns_selected_df = pd.concat(returns_selected, axis=1)\n",
        "weights = np.array([1/len(ativos_selecionados)] * len(ativos_selecionados))\n",
        "\n",
        "# Calcula o retorno e a volatilidade do portfólio\n",
        "portifolio = (returns_selected_df * weights).sum(axis=1)\n",
        "retorno_medio_portifolio = portifolio.mean()\n",
        "volatilidade_portifolio = portifolio.std() * math.sqrt(252)\n",
        "\n",
        "# Imprime os resultados\n",
        "print('Ativos selecionados:', ativos_selecionados)\n",
        "print('Pesos:', weights)\n",
        "print('Retorno médio do portfólio:', retorno_medio_portifolio)\n",
        "print('Volatilidade do portfólio:', volatilidade_portifolio)\n"
      ],
      "metadata": {
        "colab": {
          "base_uri": "https://localhost:8080/"
        },
        "id": "34l8BY54ooyw",
        "outputId": "5cdabc13-57e6-4646-bc13-5fdb6598d315"
      },
      "execution_count": 9,
      "outputs": [
        {
          "output_type": "stream",
          "name": "stdout",
          "text": [
            "[*********************100%***********************]  1 of 1 completed\n",
            "[*********************100%***********************]  1 of 1 completed\n",
            "[*********************100%***********************]  1 of 1 completed\n",
            "[*********************100%***********************]  1 of 1 completed\n",
            "[*********************100%***********************]  1 of 1 completed\n",
            "[*********************100%***********************]  1 of 1 completed\n",
            "[*********************100%***********************]  1 of 1 completed\n",
            "[*********************100%***********************]  1 of 1 completed\n",
            "[*********************100%***********************]  1 of 1 completed\n",
            "[*********************100%***********************]  1 of 1 completed\n",
            "[*********************100%***********************]  1 of 1 completed\n",
            "[*********************100%***********************]  1 of 1 completed\n",
            "[*********************100%***********************]  1 of 1 completed\n",
            "[*********************100%***********************]  1 of 1 completed\n",
            "[*********************100%***********************]  1 of 1 completed\n",
            "Ativos selecionados: ['BCSA34.SA', 'BBAS3.SA', 'GGBR4.SA', 'MGLU3.SA', 'VALE3.SA']\n",
            "Pesos: [0.2 0.2 0.2 0.2 0.2]\n",
            "Retorno médio do portfólio: 0.0002876216867224537\n",
            "Volatilidade do portfólio: 0.23495571681341004\n"
          ]
        }
      ]
    }
  ]
}